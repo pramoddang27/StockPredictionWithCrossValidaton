{
 "cells": [
  {
   "cell_type": "code",
   "execution_count": 44,
   "metadata": {
    "collapsed": true
   },
   "outputs": [],
   "source": [
    "from ObatiningStockData import *\n",
    "from LinearRegressionModel import *\n",
    "from matplotlib import pyplot as plt\n",
    "import plotly.express as px"
   ]
  },
  {
   "cell_type": "code",
   "execution_count": 35,
   "outputs": [],
   "source": [
    "symbol = \"KPITTECH.NS\"\n",
    "start_date = datetime.datetime(2023, 1, 1)\n",
    "end_date = datetime.datetime(2024, 2, 25)"
   ],
   "metadata": {
    "collapsed": false
   }
  },
  {
   "cell_type": "code",
   "execution_count": 36,
   "outputs": [
    {
     "name": "stderr",
     "output_type": "stream",
     "text": [
      "[*********************100%%**********************]  1 of 1 completed"
     ]
    },
    {
     "name": "stdout",
     "output_type": "stream",
     "text": [
      "             Volume     Today      Lag1      Lag2      Lag3  Lag4  Lag5  \\\n",
      "Date                                                                      \n",
      "2023-01-02   404987       NaN       NaN       NaN       NaN   NaN   NaN   \n",
      "2023-01-03   524130 -0.717619       NaN       NaN       NaN   NaN   NaN   \n",
      "2023-01-04   838579 -1.532339 -0.717619       NaN       NaN   NaN   NaN   \n",
      "2023-01-05   571885  0.227554 -1.532339 -0.717619       NaN   NaN   NaN   \n",
      "2023-01-06  2688877  4.972895  0.227554 -1.532339 -0.717619   NaN   NaN   \n",
      "\n",
      "            Direction  \n",
      "Date                   \n",
      "2023-01-02        NaN  \n",
      "2023-01-03       -1.0  \n",
      "2023-01-04       -1.0  \n",
      "2023-01-05        1.0  \n",
      "2023-01-06        1.0  \n"
     ]
    },
    {
     "name": "stderr",
     "output_type": "stream",
     "text": [
      "\n"
     ]
    }
   ],
   "source": [
    "ftse_lags = create_lagged_series(symbol, start_date, end_date, lags=5)\n",
    "print(ftse_lags.head(5))"
   ],
   "metadata": {
    "collapsed": false
   }
  },
  {
   "cell_type": "code",
   "execution_count": 37,
   "outputs": [
    {
     "name": "stdout",
     "output_type": "stream",
     "text": [
      "[ 0.41340393  0.24496756  0.34939187  0.55084036  0.38020572  0.08437798\n",
      "  0.05093452  0.88749331  0.21629231  0.39412567  0.5058117   0.53686417\n",
      "  0.1110047   0.26101947  0.02318158  0.31428501  0.26855045  0.07802484\n",
      "  0.41431003  0.26274048  0.59758547 -0.08334619  0.27172392  0.30927767\n",
      "  0.17527798 -0.03547659  0.36920677  0.44918685  0.46146517  0.3666459\n",
      "  0.35850792  0.04733352  0.31547982  0.33096594  0.39601276  0.40625906\n",
      "  0.49230981 -0.07561704  0.32218063  0.46434712  0.51754495  0.27533492\n",
      "  0.46370155 -0.03093842  0.3631397   0.2169778  -0.14864617  0.20945471\n",
      "  0.18397461  0.27415584  0.3788045   0.34782561  0.35485591  0.49079427\n",
      "  0.32031183  0.29126427]\n"
     ]
    }
   ],
   "source": [
    "y_pred, y_test = create_linear_reg(ftse_lags)\n",
    "print(y_pred)"
   ],
   "metadata": {
    "collapsed": false
   }
  },
  {
   "cell_type": "code",
   "execution_count": 38,
   "outputs": [
    {
     "name": "stdout",
     "output_type": "stream",
     "text": [
      "        Date    Actual  Predicted\n",
      "0 2023-02-22 -1.307629   0.413404\n",
      "1 2023-07-17  2.586659   0.244968\n",
      "2 2023-12-04  0.957489   0.349392\n",
      "3 2023-08-08 -0.338841   0.550840\n",
      "4 2024-01-24  0.336332   0.380206\n"
     ]
    }
   ],
   "source": [
    "df_pred = evaluate_model(y_test, y_pred)\n",
    "print(df_pred.head(5))"
   ],
   "metadata": {
    "collapsed": false
   }
  },
  {
   "cell_type": "code",
   "execution_count": 46,
   "outputs": [
    {
     "data": {
      "text/plain": "         Date    Actual  Predicted\n0  2023-02-22 -1.307629   0.413404\n1  2023-07-17  2.586659   0.244968\n2  2023-12-04  0.957489   0.349392\n3  2023-08-08 -0.338841   0.550840\n4  2024-01-24  0.336332   0.380206\n5  2023-12-27 -0.644759   0.084378\n6  2023-06-05  0.067271   0.050935\n7  2023-11-24  1.541711   0.887493\n8  2024-01-25 -6.046935   0.216292\n9  2023-08-10 -1.645608   0.394126\n10 2023-05-10  1.782977   0.505812\n11 2023-11-15 -0.028707   0.536864\n12 2023-12-18 -1.652840   0.111005\n13 2023-06-09  0.929891   0.261019\n14 2024-02-19 -2.569312   0.023182\n15 2023-06-28  1.164356   0.314285\n16 2023-10-23 -3.638953   0.268550\n17 2023-04-11  4.644620   0.078025\n18 2023-11-06  0.954490   0.414310\n19 2024-01-03 -0.350853   0.262740\n20 2023-03-16 -3.729492   0.597585\n21 2023-05-02  2.017884  -0.083346\n22 2023-10-05  1.575471   0.271724\n23 2023-09-11  0.201808   0.309278\n24 2024-02-21 -2.963420   0.175278\n25 2023-11-21 -7.278318  -0.035477\n26 2023-05-17  0.641715   0.369207\n27 2023-03-13 -3.693347   0.449187\n28 2023-01-23  0.150701   0.461465\n29 2023-07-05 -0.485503   0.366646\n30 2023-02-10  4.860253   0.358508\n31 2023-08-28  0.309345   0.047334\n32 2023-02-14  1.731081   0.315480\n33 2023-09-13 -0.611652   0.330966\n34 2023-12-11 -1.038145   0.396013\n35 2023-05-04 -1.425629   0.406259\n36 2023-12-21  3.342766   0.492310\n37 2024-02-05  1.093775  -0.075617\n38 2023-01-18 -1.374149   0.322181\n39 2023-04-24  0.117828   0.464347\n40 2023-03-17  6.558784   0.517545\n41 2023-09-27  3.837657   0.275335\n42 2023-04-20  0.357414   0.463702\n43 2023-02-15  1.144394  -0.030938\n44 2023-07-14  1.489187   0.363140\n45 2023-11-22 -3.984595   0.216978\n46 2023-02-07  0.328479  -0.148646\n47 2023-05-15  2.475931   0.209455\n48 2024-01-30  3.560384   0.183975\n49 2024-02-14  3.071890   0.274156\n50 2023-05-25  4.149430   0.378804\n51 2023-08-23  3.955662   0.347826\n52 2024-02-01 -1.686227   0.354856\n53 2023-02-01 -2.660905   0.490794\n54 2023-09-01  2.109010   0.320312\n55 2023-01-24  0.644881   0.291264",
      "text/html": "<div>\n<style scoped>\n    .dataframe tbody tr th:only-of-type {\n        vertical-align: middle;\n    }\n\n    .dataframe tbody tr th {\n        vertical-align: top;\n    }\n\n    .dataframe thead th {\n        text-align: right;\n    }\n</style>\n<table border=\"1\" class=\"dataframe\">\n  <thead>\n    <tr style=\"text-align: right;\">\n      <th></th>\n      <th>Date</th>\n      <th>Actual</th>\n      <th>Predicted</th>\n    </tr>\n  </thead>\n  <tbody>\n    <tr>\n      <th>0</th>\n      <td>2023-02-22</td>\n      <td>-1.307629</td>\n      <td>0.413404</td>\n    </tr>\n    <tr>\n      <th>1</th>\n      <td>2023-07-17</td>\n      <td>2.586659</td>\n      <td>0.244968</td>\n    </tr>\n    <tr>\n      <th>2</th>\n      <td>2023-12-04</td>\n      <td>0.957489</td>\n      <td>0.349392</td>\n    </tr>\n    <tr>\n      <th>3</th>\n      <td>2023-08-08</td>\n      <td>-0.338841</td>\n      <td>0.550840</td>\n    </tr>\n    <tr>\n      <th>4</th>\n      <td>2024-01-24</td>\n      <td>0.336332</td>\n      <td>0.380206</td>\n    </tr>\n    <tr>\n      <th>5</th>\n      <td>2023-12-27</td>\n      <td>-0.644759</td>\n      <td>0.084378</td>\n    </tr>\n    <tr>\n      <th>6</th>\n      <td>2023-06-05</td>\n      <td>0.067271</td>\n      <td>0.050935</td>\n    </tr>\n    <tr>\n      <th>7</th>\n      <td>2023-11-24</td>\n      <td>1.541711</td>\n      <td>0.887493</td>\n    </tr>\n    <tr>\n      <th>8</th>\n      <td>2024-01-25</td>\n      <td>-6.046935</td>\n      <td>0.216292</td>\n    </tr>\n    <tr>\n      <th>9</th>\n      <td>2023-08-10</td>\n      <td>-1.645608</td>\n      <td>0.394126</td>\n    </tr>\n    <tr>\n      <th>10</th>\n      <td>2023-05-10</td>\n      <td>1.782977</td>\n      <td>0.505812</td>\n    </tr>\n    <tr>\n      <th>11</th>\n      <td>2023-11-15</td>\n      <td>-0.028707</td>\n      <td>0.536864</td>\n    </tr>\n    <tr>\n      <th>12</th>\n      <td>2023-12-18</td>\n      <td>-1.652840</td>\n      <td>0.111005</td>\n    </tr>\n    <tr>\n      <th>13</th>\n      <td>2023-06-09</td>\n      <td>0.929891</td>\n      <td>0.261019</td>\n    </tr>\n    <tr>\n      <th>14</th>\n      <td>2024-02-19</td>\n      <td>-2.569312</td>\n      <td>0.023182</td>\n    </tr>\n    <tr>\n      <th>15</th>\n      <td>2023-06-28</td>\n      <td>1.164356</td>\n      <td>0.314285</td>\n    </tr>\n    <tr>\n      <th>16</th>\n      <td>2023-10-23</td>\n      <td>-3.638953</td>\n      <td>0.268550</td>\n    </tr>\n    <tr>\n      <th>17</th>\n      <td>2023-04-11</td>\n      <td>4.644620</td>\n      <td>0.078025</td>\n    </tr>\n    <tr>\n      <th>18</th>\n      <td>2023-11-06</td>\n      <td>0.954490</td>\n      <td>0.414310</td>\n    </tr>\n    <tr>\n      <th>19</th>\n      <td>2024-01-03</td>\n      <td>-0.350853</td>\n      <td>0.262740</td>\n    </tr>\n    <tr>\n      <th>20</th>\n      <td>2023-03-16</td>\n      <td>-3.729492</td>\n      <td>0.597585</td>\n    </tr>\n    <tr>\n      <th>21</th>\n      <td>2023-05-02</td>\n      <td>2.017884</td>\n      <td>-0.083346</td>\n    </tr>\n    <tr>\n      <th>22</th>\n      <td>2023-10-05</td>\n      <td>1.575471</td>\n      <td>0.271724</td>\n    </tr>\n    <tr>\n      <th>23</th>\n      <td>2023-09-11</td>\n      <td>0.201808</td>\n      <td>0.309278</td>\n    </tr>\n    <tr>\n      <th>24</th>\n      <td>2024-02-21</td>\n      <td>-2.963420</td>\n      <td>0.175278</td>\n    </tr>\n    <tr>\n      <th>25</th>\n      <td>2023-11-21</td>\n      <td>-7.278318</td>\n      <td>-0.035477</td>\n    </tr>\n    <tr>\n      <th>26</th>\n      <td>2023-05-17</td>\n      <td>0.641715</td>\n      <td>0.369207</td>\n    </tr>\n    <tr>\n      <th>27</th>\n      <td>2023-03-13</td>\n      <td>-3.693347</td>\n      <td>0.449187</td>\n    </tr>\n    <tr>\n      <th>28</th>\n      <td>2023-01-23</td>\n      <td>0.150701</td>\n      <td>0.461465</td>\n    </tr>\n    <tr>\n      <th>29</th>\n      <td>2023-07-05</td>\n      <td>-0.485503</td>\n      <td>0.366646</td>\n    </tr>\n    <tr>\n      <th>30</th>\n      <td>2023-02-10</td>\n      <td>4.860253</td>\n      <td>0.358508</td>\n    </tr>\n    <tr>\n      <th>31</th>\n      <td>2023-08-28</td>\n      <td>0.309345</td>\n      <td>0.047334</td>\n    </tr>\n    <tr>\n      <th>32</th>\n      <td>2023-02-14</td>\n      <td>1.731081</td>\n      <td>0.315480</td>\n    </tr>\n    <tr>\n      <th>33</th>\n      <td>2023-09-13</td>\n      <td>-0.611652</td>\n      <td>0.330966</td>\n    </tr>\n    <tr>\n      <th>34</th>\n      <td>2023-12-11</td>\n      <td>-1.038145</td>\n      <td>0.396013</td>\n    </tr>\n    <tr>\n      <th>35</th>\n      <td>2023-05-04</td>\n      <td>-1.425629</td>\n      <td>0.406259</td>\n    </tr>\n    <tr>\n      <th>36</th>\n      <td>2023-12-21</td>\n      <td>3.342766</td>\n      <td>0.492310</td>\n    </tr>\n    <tr>\n      <th>37</th>\n      <td>2024-02-05</td>\n      <td>1.093775</td>\n      <td>-0.075617</td>\n    </tr>\n    <tr>\n      <th>38</th>\n      <td>2023-01-18</td>\n      <td>-1.374149</td>\n      <td>0.322181</td>\n    </tr>\n    <tr>\n      <th>39</th>\n      <td>2023-04-24</td>\n      <td>0.117828</td>\n      <td>0.464347</td>\n    </tr>\n    <tr>\n      <th>40</th>\n      <td>2023-03-17</td>\n      <td>6.558784</td>\n      <td>0.517545</td>\n    </tr>\n    <tr>\n      <th>41</th>\n      <td>2023-09-27</td>\n      <td>3.837657</td>\n      <td>0.275335</td>\n    </tr>\n    <tr>\n      <th>42</th>\n      <td>2023-04-20</td>\n      <td>0.357414</td>\n      <td>0.463702</td>\n    </tr>\n    <tr>\n      <th>43</th>\n      <td>2023-02-15</td>\n      <td>1.144394</td>\n      <td>-0.030938</td>\n    </tr>\n    <tr>\n      <th>44</th>\n      <td>2023-07-14</td>\n      <td>1.489187</td>\n      <td>0.363140</td>\n    </tr>\n    <tr>\n      <th>45</th>\n      <td>2023-11-22</td>\n      <td>-3.984595</td>\n      <td>0.216978</td>\n    </tr>\n    <tr>\n      <th>46</th>\n      <td>2023-02-07</td>\n      <td>0.328479</td>\n      <td>-0.148646</td>\n    </tr>\n    <tr>\n      <th>47</th>\n      <td>2023-05-15</td>\n      <td>2.475931</td>\n      <td>0.209455</td>\n    </tr>\n    <tr>\n      <th>48</th>\n      <td>2024-01-30</td>\n      <td>3.560384</td>\n      <td>0.183975</td>\n    </tr>\n    <tr>\n      <th>49</th>\n      <td>2024-02-14</td>\n      <td>3.071890</td>\n      <td>0.274156</td>\n    </tr>\n    <tr>\n      <th>50</th>\n      <td>2023-05-25</td>\n      <td>4.149430</td>\n      <td>0.378804</td>\n    </tr>\n    <tr>\n      <th>51</th>\n      <td>2023-08-23</td>\n      <td>3.955662</td>\n      <td>0.347826</td>\n    </tr>\n    <tr>\n      <th>52</th>\n      <td>2024-02-01</td>\n      <td>-1.686227</td>\n      <td>0.354856</td>\n    </tr>\n    <tr>\n      <th>53</th>\n      <td>2023-02-01</td>\n      <td>-2.660905</td>\n      <td>0.490794</td>\n    </tr>\n    <tr>\n      <th>54</th>\n      <td>2023-09-01</td>\n      <td>2.109010</td>\n      <td>0.320312</td>\n    </tr>\n    <tr>\n      <th>55</th>\n      <td>2023-01-24</td>\n      <td>0.644881</td>\n      <td>0.291264</td>\n    </tr>\n  </tbody>\n</table>\n</div>"
     },
     "execution_count": 46,
     "metadata": {},
     "output_type": "execute_result"
    }
   ],
   "source": [
    "df_pred"
   ],
   "metadata": {
    "collapsed": false
   }
  },
  {
   "cell_type": "code",
   "execution_count": 51,
   "outputs": [
    {
     "data": {
      "application/vnd.plotly.v1+json": {
       "data": [
        {
         "hovertemplate": "variable=Actual<br>index=%{x}<br>value=%{y}<extra></extra>",
         "legendgroup": "Actual",
         "line": {
          "color": "green",
          "dash": "solid"
         },
         "marker": {
          "symbol": "circle"
         },
         "mode": "lines",
         "name": "Actual",
         "orientation": "v",
         "showlegend": true,
         "x": [
          0,
          1,
          2,
          3,
          4,
          5,
          6,
          7,
          8,
          9,
          10,
          11,
          12,
          13,
          14,
          15,
          16,
          17,
          18,
          19,
          20,
          21,
          22,
          23,
          24,
          25,
          26,
          27,
          28,
          29,
          30,
          31,
          32,
          33,
          34,
          35,
          36,
          37,
          38,
          39,
          40,
          41,
          42,
          43,
          44,
          45,
          46,
          47,
          48,
          49,
          50,
          51,
          52,
          53,
          54,
          55
         ],
         "xaxis": "x",
         "y": [
          -1.3076292804231615,
          2.5866591660979266,
          0.9574893643883975,
          -0.3388405747432599,
          0.33633176724725544,
          -0.6447588502536572,
          0.0672711916890556,
          1.54171089367654,
          -6.046934614907218,
          -1.6456079043711935,
          1.7829765483529547,
          -0.028706645882337067,
          -1.6528395501300475,
          0.929891033175001,
          -2.5693117009604083,
          1.1643564777871207,
          -3.638952966342479,
          4.6446203905718075,
          0.9544900340966667,
          -0.35085314842761006,
          -3.7294923608151676,
          2.0178843551945214,
          1.5754713611172866,
          0.20180785327263973,
          -2.963420280907547,
          -7.278318182102117,
          0.6417153490788419,
          -3.693346570553202,
          0.15070139292225893,
          -0.4855026544484331,
          4.860253137527271,
          0.3093450426831179,
          1.7310806214533736,
          -0.611651624917886,
          -1.0381453722586809,
          -1.425629482691848,
          3.3427657368615193,
          1.0937754044445747,
          -1.3741489608405377,
          0.11782781967797362,
          6.558784464073741,
          3.837657311139453,
          0.3574144110058963,
          1.1443935929460913,
          1.489186609786719,
          -3.984594948172837,
          0.32847935015201113,
          2.4759305451762526,
          3.560383819477164,
          3.0718903171407685,
          4.149429662644488,
          3.955662478768862,
          -1.6862274610966566,
          -2.660905308949635,
          2.1090098377013033,
          0.6448812026925488
         ],
         "yaxis": "y",
         "type": "scatter"
        },
        {
         "hovertemplate": "variable=Predicted<br>index=%{x}<br>value=%{y}<extra></extra>",
         "legendgroup": "Predicted",
         "line": {
          "color": "red",
          "dash": "solid"
         },
         "marker": {
          "symbol": "circle"
         },
         "mode": "lines",
         "name": "Predicted",
         "orientation": "v",
         "showlegend": true,
         "x": [
          0,
          1,
          2,
          3,
          4,
          5,
          6,
          7,
          8,
          9,
          10,
          11,
          12,
          13,
          14,
          15,
          16,
          17,
          18,
          19,
          20,
          21,
          22,
          23,
          24,
          25,
          26,
          27,
          28,
          29,
          30,
          31,
          32,
          33,
          34,
          35,
          36,
          37,
          38,
          39,
          40,
          41,
          42,
          43,
          44,
          45,
          46,
          47,
          48,
          49,
          50,
          51,
          52,
          53,
          54,
          55
         ],
         "xaxis": "x",
         "y": [
          0.4134039289285969,
          0.2449675591584568,
          0.34939186986046433,
          0.5508403565517042,
          0.38020571682344645,
          0.08437797620051118,
          0.05093452018054728,
          0.8874933072070578,
          0.21629230795648677,
          0.39412566888791084,
          0.5058116958571092,
          0.5368641734099482,
          0.11100470207027457,
          0.2610194650589868,
          0.0231815764102698,
          0.3142850060818945,
          0.26855045324833227,
          0.07802483634387392,
          0.4143100280798919,
          0.2627404750820879,
          0.5975854728498255,
          -0.08334618731839816,
          0.2717239189974779,
          0.30927767083025226,
          0.17527798442901507,
          -0.03547658977318224,
          0.36920677062082535,
          0.44918685208753784,
          0.4614651745782731,
          0.366645895811437,
          0.3585079176629962,
          0.04733352235741245,
          0.3154798241316264,
          0.3309659407341803,
          0.39601276047797523,
          0.4062590645705235,
          0.4923098094413404,
          -0.0756170378361743,
          0.32218063065508373,
          0.4643471209729229,
          0.517544953934632,
          0.2753349193174734,
          0.4637015450055566,
          -0.03093841983793577,
          0.3631396987600236,
          0.21697779788178895,
          -0.14864617112930217,
          0.20945470838928165,
          0.18397461291950032,
          0.27415583785398645,
          0.3788044984145231,
          0.34782561381313215,
          0.354855911011309,
          0.4907942738015236,
          0.3203118269816809,
          0.2912642674320223
         ],
         "yaxis": "y",
         "type": "scatter"
        }
       ],
       "layout": {
        "template": {
         "data": {
          "histogram2dcontour": [
           {
            "type": "histogram2dcontour",
            "colorbar": {
             "outlinewidth": 0,
             "ticks": ""
            },
            "colorscale": [
             [
              0.0,
              "#0d0887"
             ],
             [
              0.1111111111111111,
              "#46039f"
             ],
             [
              0.2222222222222222,
              "#7201a8"
             ],
             [
              0.3333333333333333,
              "#9c179e"
             ],
             [
              0.4444444444444444,
              "#bd3786"
             ],
             [
              0.5555555555555556,
              "#d8576b"
             ],
             [
              0.6666666666666666,
              "#ed7953"
             ],
             [
              0.7777777777777778,
              "#fb9f3a"
             ],
             [
              0.8888888888888888,
              "#fdca26"
             ],
             [
              1.0,
              "#f0f921"
             ]
            ]
           }
          ],
          "choropleth": [
           {
            "type": "choropleth",
            "colorbar": {
             "outlinewidth": 0,
             "ticks": ""
            }
           }
          ],
          "histogram2d": [
           {
            "type": "histogram2d",
            "colorbar": {
             "outlinewidth": 0,
             "ticks": ""
            },
            "colorscale": [
             [
              0.0,
              "#0d0887"
             ],
             [
              0.1111111111111111,
              "#46039f"
             ],
             [
              0.2222222222222222,
              "#7201a8"
             ],
             [
              0.3333333333333333,
              "#9c179e"
             ],
             [
              0.4444444444444444,
              "#bd3786"
             ],
             [
              0.5555555555555556,
              "#d8576b"
             ],
             [
              0.6666666666666666,
              "#ed7953"
             ],
             [
              0.7777777777777778,
              "#fb9f3a"
             ],
             [
              0.8888888888888888,
              "#fdca26"
             ],
             [
              1.0,
              "#f0f921"
             ]
            ]
           }
          ],
          "heatmap": [
           {
            "type": "heatmap",
            "colorbar": {
             "outlinewidth": 0,
             "ticks": ""
            },
            "colorscale": [
             [
              0.0,
              "#0d0887"
             ],
             [
              0.1111111111111111,
              "#46039f"
             ],
             [
              0.2222222222222222,
              "#7201a8"
             ],
             [
              0.3333333333333333,
              "#9c179e"
             ],
             [
              0.4444444444444444,
              "#bd3786"
             ],
             [
              0.5555555555555556,
              "#d8576b"
             ],
             [
              0.6666666666666666,
              "#ed7953"
             ],
             [
              0.7777777777777778,
              "#fb9f3a"
             ],
             [
              0.8888888888888888,
              "#fdca26"
             ],
             [
              1.0,
              "#f0f921"
             ]
            ]
           }
          ],
          "heatmapgl": [
           {
            "type": "heatmapgl",
            "colorbar": {
             "outlinewidth": 0,
             "ticks": ""
            },
            "colorscale": [
             [
              0.0,
              "#0d0887"
             ],
             [
              0.1111111111111111,
              "#46039f"
             ],
             [
              0.2222222222222222,
              "#7201a8"
             ],
             [
              0.3333333333333333,
              "#9c179e"
             ],
             [
              0.4444444444444444,
              "#bd3786"
             ],
             [
              0.5555555555555556,
              "#d8576b"
             ],
             [
              0.6666666666666666,
              "#ed7953"
             ],
             [
              0.7777777777777778,
              "#fb9f3a"
             ],
             [
              0.8888888888888888,
              "#fdca26"
             ],
             [
              1.0,
              "#f0f921"
             ]
            ]
           }
          ],
          "contourcarpet": [
           {
            "type": "contourcarpet",
            "colorbar": {
             "outlinewidth": 0,
             "ticks": ""
            }
           }
          ],
          "contour": [
           {
            "type": "contour",
            "colorbar": {
             "outlinewidth": 0,
             "ticks": ""
            },
            "colorscale": [
             [
              0.0,
              "#0d0887"
             ],
             [
              0.1111111111111111,
              "#46039f"
             ],
             [
              0.2222222222222222,
              "#7201a8"
             ],
             [
              0.3333333333333333,
              "#9c179e"
             ],
             [
              0.4444444444444444,
              "#bd3786"
             ],
             [
              0.5555555555555556,
              "#d8576b"
             ],
             [
              0.6666666666666666,
              "#ed7953"
             ],
             [
              0.7777777777777778,
              "#fb9f3a"
             ],
             [
              0.8888888888888888,
              "#fdca26"
             ],
             [
              1.0,
              "#f0f921"
             ]
            ]
           }
          ],
          "surface": [
           {
            "type": "surface",
            "colorbar": {
             "outlinewidth": 0,
             "ticks": ""
            },
            "colorscale": [
             [
              0.0,
              "#0d0887"
             ],
             [
              0.1111111111111111,
              "#46039f"
             ],
             [
              0.2222222222222222,
              "#7201a8"
             ],
             [
              0.3333333333333333,
              "#9c179e"
             ],
             [
              0.4444444444444444,
              "#bd3786"
             ],
             [
              0.5555555555555556,
              "#d8576b"
             ],
             [
              0.6666666666666666,
              "#ed7953"
             ],
             [
              0.7777777777777778,
              "#fb9f3a"
             ],
             [
              0.8888888888888888,
              "#fdca26"
             ],
             [
              1.0,
              "#f0f921"
             ]
            ]
           }
          ],
          "mesh3d": [
           {
            "type": "mesh3d",
            "colorbar": {
             "outlinewidth": 0,
             "ticks": ""
            }
           }
          ],
          "scatter": [
           {
            "fillpattern": {
             "fillmode": "overlay",
             "size": 10,
             "solidity": 0.2
            },
            "type": "scatter"
           }
          ],
          "parcoords": [
           {
            "type": "parcoords",
            "line": {
             "colorbar": {
              "outlinewidth": 0,
              "ticks": ""
             }
            }
           }
          ],
          "scatterpolargl": [
           {
            "type": "scatterpolargl",
            "marker": {
             "colorbar": {
              "outlinewidth": 0,
              "ticks": ""
             }
            }
           }
          ],
          "bar": [
           {
            "error_x": {
             "color": "#2a3f5f"
            },
            "error_y": {
             "color": "#2a3f5f"
            },
            "marker": {
             "line": {
              "color": "#E5ECF6",
              "width": 0.5
             },
             "pattern": {
              "fillmode": "overlay",
              "size": 10,
              "solidity": 0.2
             }
            },
            "type": "bar"
           }
          ],
          "scattergeo": [
           {
            "type": "scattergeo",
            "marker": {
             "colorbar": {
              "outlinewidth": 0,
              "ticks": ""
             }
            }
           }
          ],
          "scatterpolar": [
           {
            "type": "scatterpolar",
            "marker": {
             "colorbar": {
              "outlinewidth": 0,
              "ticks": ""
             }
            }
           }
          ],
          "histogram": [
           {
            "marker": {
             "pattern": {
              "fillmode": "overlay",
              "size": 10,
              "solidity": 0.2
             }
            },
            "type": "histogram"
           }
          ],
          "scattergl": [
           {
            "type": "scattergl",
            "marker": {
             "colorbar": {
              "outlinewidth": 0,
              "ticks": ""
             }
            }
           }
          ],
          "scatter3d": [
           {
            "type": "scatter3d",
            "line": {
             "colorbar": {
              "outlinewidth": 0,
              "ticks": ""
             }
            },
            "marker": {
             "colorbar": {
              "outlinewidth": 0,
              "ticks": ""
             }
            }
           }
          ],
          "scattermapbox": [
           {
            "type": "scattermapbox",
            "marker": {
             "colorbar": {
              "outlinewidth": 0,
              "ticks": ""
             }
            }
           }
          ],
          "scatterternary": [
           {
            "type": "scatterternary",
            "marker": {
             "colorbar": {
              "outlinewidth": 0,
              "ticks": ""
             }
            }
           }
          ],
          "scattercarpet": [
           {
            "type": "scattercarpet",
            "marker": {
             "colorbar": {
              "outlinewidth": 0,
              "ticks": ""
             }
            }
           }
          ],
          "carpet": [
           {
            "aaxis": {
             "endlinecolor": "#2a3f5f",
             "gridcolor": "white",
             "linecolor": "white",
             "minorgridcolor": "white",
             "startlinecolor": "#2a3f5f"
            },
            "baxis": {
             "endlinecolor": "#2a3f5f",
             "gridcolor": "white",
             "linecolor": "white",
             "minorgridcolor": "white",
             "startlinecolor": "#2a3f5f"
            },
            "type": "carpet"
           }
          ],
          "table": [
           {
            "cells": {
             "fill": {
              "color": "#EBF0F8"
             },
             "line": {
              "color": "white"
             }
            },
            "header": {
             "fill": {
              "color": "#C8D4E3"
             },
             "line": {
              "color": "white"
             }
            },
            "type": "table"
           }
          ],
          "barpolar": [
           {
            "marker": {
             "line": {
              "color": "#E5ECF6",
              "width": 0.5
             },
             "pattern": {
              "fillmode": "overlay",
              "size": 10,
              "solidity": 0.2
             }
            },
            "type": "barpolar"
           }
          ],
          "pie": [
           {
            "automargin": true,
            "type": "pie"
           }
          ]
         },
         "layout": {
          "autotypenumbers": "strict",
          "colorway": [
           "#636efa",
           "#EF553B",
           "#00cc96",
           "#ab63fa",
           "#FFA15A",
           "#19d3f3",
           "#FF6692",
           "#B6E880",
           "#FF97FF",
           "#FECB52"
          ],
          "font": {
           "color": "#2a3f5f"
          },
          "hovermode": "closest",
          "hoverlabel": {
           "align": "left"
          },
          "paper_bgcolor": "white",
          "plot_bgcolor": "#E5ECF6",
          "polar": {
           "bgcolor": "#E5ECF6",
           "angularaxis": {
            "gridcolor": "white",
            "linecolor": "white",
            "ticks": ""
           },
           "radialaxis": {
            "gridcolor": "white",
            "linecolor": "white",
            "ticks": ""
           }
          },
          "ternary": {
           "bgcolor": "#E5ECF6",
           "aaxis": {
            "gridcolor": "white",
            "linecolor": "white",
            "ticks": ""
           },
           "baxis": {
            "gridcolor": "white",
            "linecolor": "white",
            "ticks": ""
           },
           "caxis": {
            "gridcolor": "white",
            "linecolor": "white",
            "ticks": ""
           }
          },
          "coloraxis": {
           "colorbar": {
            "outlinewidth": 0,
            "ticks": ""
           }
          },
          "colorscale": {
           "sequential": [
            [
             0.0,
             "#0d0887"
            ],
            [
             0.1111111111111111,
             "#46039f"
            ],
            [
             0.2222222222222222,
             "#7201a8"
            ],
            [
             0.3333333333333333,
             "#9c179e"
            ],
            [
             0.4444444444444444,
             "#bd3786"
            ],
            [
             0.5555555555555556,
             "#d8576b"
            ],
            [
             0.6666666666666666,
             "#ed7953"
            ],
            [
             0.7777777777777778,
             "#fb9f3a"
            ],
            [
             0.8888888888888888,
             "#fdca26"
            ],
            [
             1.0,
             "#f0f921"
            ]
           ],
           "sequentialminus": [
            [
             0.0,
             "#0d0887"
            ],
            [
             0.1111111111111111,
             "#46039f"
            ],
            [
             0.2222222222222222,
             "#7201a8"
            ],
            [
             0.3333333333333333,
             "#9c179e"
            ],
            [
             0.4444444444444444,
             "#bd3786"
            ],
            [
             0.5555555555555556,
             "#d8576b"
            ],
            [
             0.6666666666666666,
             "#ed7953"
            ],
            [
             0.7777777777777778,
             "#fb9f3a"
            ],
            [
             0.8888888888888888,
             "#fdca26"
            ],
            [
             1.0,
             "#f0f921"
            ]
           ],
           "diverging": [
            [
             0,
             "#8e0152"
            ],
            [
             0.1,
             "#c51b7d"
            ],
            [
             0.2,
             "#de77ae"
            ],
            [
             0.3,
             "#f1b6da"
            ],
            [
             0.4,
             "#fde0ef"
            ],
            [
             0.5,
             "#f7f7f7"
            ],
            [
             0.6,
             "#e6f5d0"
            ],
            [
             0.7,
             "#b8e186"
            ],
            [
             0.8,
             "#7fbc41"
            ],
            [
             0.9,
             "#4d9221"
            ],
            [
             1,
             "#276419"
            ]
           ]
          },
          "xaxis": {
           "gridcolor": "white",
           "linecolor": "white",
           "ticks": "",
           "title": {
            "standoff": 15
           },
           "zerolinecolor": "white",
           "automargin": true,
           "zerolinewidth": 2
          },
          "yaxis": {
           "gridcolor": "white",
           "linecolor": "white",
           "ticks": "",
           "title": {
            "standoff": 15
           },
           "zerolinecolor": "white",
           "automargin": true,
           "zerolinewidth": 2
          },
          "scene": {
           "xaxis": {
            "backgroundcolor": "#E5ECF6",
            "gridcolor": "white",
            "linecolor": "white",
            "showbackground": true,
            "ticks": "",
            "zerolinecolor": "white",
            "gridwidth": 2
           },
           "yaxis": {
            "backgroundcolor": "#E5ECF6",
            "gridcolor": "white",
            "linecolor": "white",
            "showbackground": true,
            "ticks": "",
            "zerolinecolor": "white",
            "gridwidth": 2
           },
           "zaxis": {
            "backgroundcolor": "#E5ECF6",
            "gridcolor": "white",
            "linecolor": "white",
            "showbackground": true,
            "ticks": "",
            "zerolinecolor": "white",
            "gridwidth": 2
           }
          },
          "shapedefaults": {
           "line": {
            "color": "#2a3f5f"
           }
          },
          "annotationdefaults": {
           "arrowcolor": "#2a3f5f",
           "arrowhead": 0,
           "arrowwidth": 1
          },
          "geo": {
           "bgcolor": "white",
           "landcolor": "#E5ECF6",
           "subunitcolor": "white",
           "showland": true,
           "showlakes": true,
           "lakecolor": "white"
          },
          "title": {
           "x": 0.05
          },
          "mapbox": {
           "style": "light"
          }
         }
        },
        "xaxis": {
         "anchor": "y",
         "domain": [
          0.0,
          1.0
         ],
         "title": {
          "text": "index"
         }
        },
        "yaxis": {
         "anchor": "x",
         "domain": [
          0.0,
          1.0
         ],
         "title": {
          "text": "value"
         }
        },
        "legend": {
         "title": {
          "text": "variable"
         },
         "tracegroupgap": 0
        },
        "title": {
         "text": "Linear Regression Model: Actual Prices vs. Predicted Prices."
        }
       },
       "config": {
        "plotlyServerURL": "https://plot.ly"
       }
      },
      "text/html": "<div>                            <div id=\"e87fc2d9-9497-42f4-9b42-682e30f27c81\" class=\"plotly-graph-div\" style=\"height:525px; width:100%;\"></div>            <script type=\"text/javascript\">                require([\"plotly\"], function(Plotly) {                    window.PLOTLYENV=window.PLOTLYENV || {};                                    if (document.getElementById(\"e87fc2d9-9497-42f4-9b42-682e30f27c81\")) {                    Plotly.newPlot(                        \"e87fc2d9-9497-42f4-9b42-682e30f27c81\",                        [{\"hovertemplate\":\"variable=Actual\\u003cbr\\u003eindex=%{x}\\u003cbr\\u003evalue=%{y}\\u003cextra\\u003e\\u003c\\u002fextra\\u003e\",\"legendgroup\":\"Actual\",\"line\":{\"color\":\"green\",\"dash\":\"solid\"},\"marker\":{\"symbol\":\"circle\"},\"mode\":\"lines\",\"name\":\"Actual\",\"orientation\":\"v\",\"showlegend\":true,\"x\":[0,1,2,3,4,5,6,7,8,9,10,11,12,13,14,15,16,17,18,19,20,21,22,23,24,25,26,27,28,29,30,31,32,33,34,35,36,37,38,39,40,41,42,43,44,45,46,47,48,49,50,51,52,53,54,55],\"xaxis\":\"x\",\"y\":[-1.3076292804231615,2.5866591660979266,0.9574893643883975,-0.3388405747432599,0.33633176724725544,-0.6447588502536572,0.0672711916890556,1.54171089367654,-6.046934614907218,-1.6456079043711935,1.7829765483529547,-0.028706645882337067,-1.6528395501300475,0.929891033175001,-2.5693117009604083,1.1643564777871207,-3.638952966342479,4.6446203905718075,0.9544900340966667,-0.35085314842761006,-3.7294923608151676,2.0178843551945214,1.5754713611172866,0.20180785327263973,-2.963420280907547,-7.278318182102117,0.6417153490788419,-3.693346570553202,0.15070139292225893,-0.4855026544484331,4.860253137527271,0.3093450426831179,1.7310806214533736,-0.611651624917886,-1.0381453722586809,-1.425629482691848,3.3427657368615193,1.0937754044445747,-1.3741489608405377,0.11782781967797362,6.558784464073741,3.837657311139453,0.3574144110058963,1.1443935929460913,1.489186609786719,-3.984594948172837,0.32847935015201113,2.4759305451762526,3.560383819477164,3.0718903171407685,4.149429662644488,3.955662478768862,-1.6862274610966566,-2.660905308949635,2.1090098377013033,0.6448812026925488],\"yaxis\":\"y\",\"type\":\"scatter\"},{\"hovertemplate\":\"variable=Predicted\\u003cbr\\u003eindex=%{x}\\u003cbr\\u003evalue=%{y}\\u003cextra\\u003e\\u003c\\u002fextra\\u003e\",\"legendgroup\":\"Predicted\",\"line\":{\"color\":\"red\",\"dash\":\"solid\"},\"marker\":{\"symbol\":\"circle\"},\"mode\":\"lines\",\"name\":\"Predicted\",\"orientation\":\"v\",\"showlegend\":true,\"x\":[0,1,2,3,4,5,6,7,8,9,10,11,12,13,14,15,16,17,18,19,20,21,22,23,24,25,26,27,28,29,30,31,32,33,34,35,36,37,38,39,40,41,42,43,44,45,46,47,48,49,50,51,52,53,54,55],\"xaxis\":\"x\",\"y\":[0.4134039289285969,0.2449675591584568,0.34939186986046433,0.5508403565517042,0.38020571682344645,0.08437797620051118,0.05093452018054728,0.8874933072070578,0.21629230795648677,0.39412566888791084,0.5058116958571092,0.5368641734099482,0.11100470207027457,0.2610194650589868,0.0231815764102698,0.3142850060818945,0.26855045324833227,0.07802483634387392,0.4143100280798919,0.2627404750820879,0.5975854728498255,-0.08334618731839816,0.2717239189974779,0.30927767083025226,0.17527798442901507,-0.03547658977318224,0.36920677062082535,0.44918685208753784,0.4614651745782731,0.366645895811437,0.3585079176629962,0.04733352235741245,0.3154798241316264,0.3309659407341803,0.39601276047797523,0.4062590645705235,0.4923098094413404,-0.0756170378361743,0.32218063065508373,0.4643471209729229,0.517544953934632,0.2753349193174734,0.4637015450055566,-0.03093841983793577,0.3631396987600236,0.21697779788178895,-0.14864617112930217,0.20945470838928165,0.18397461291950032,0.27415583785398645,0.3788044984145231,0.34782561381313215,0.354855911011309,0.4907942738015236,0.3203118269816809,0.2912642674320223],\"yaxis\":\"y\",\"type\":\"scatter\"}],                        {\"template\":{\"data\":{\"histogram2dcontour\":[{\"type\":\"histogram2dcontour\",\"colorbar\":{\"outlinewidth\":0,\"ticks\":\"\"},\"colorscale\":[[0.0,\"#0d0887\"],[0.1111111111111111,\"#46039f\"],[0.2222222222222222,\"#7201a8\"],[0.3333333333333333,\"#9c179e\"],[0.4444444444444444,\"#bd3786\"],[0.5555555555555556,\"#d8576b\"],[0.6666666666666666,\"#ed7953\"],[0.7777777777777778,\"#fb9f3a\"],[0.8888888888888888,\"#fdca26\"],[1.0,\"#f0f921\"]]}],\"choropleth\":[{\"type\":\"choropleth\",\"colorbar\":{\"outlinewidth\":0,\"ticks\":\"\"}}],\"histogram2d\":[{\"type\":\"histogram2d\",\"colorbar\":{\"outlinewidth\":0,\"ticks\":\"\"},\"colorscale\":[[0.0,\"#0d0887\"],[0.1111111111111111,\"#46039f\"],[0.2222222222222222,\"#7201a8\"],[0.3333333333333333,\"#9c179e\"],[0.4444444444444444,\"#bd3786\"],[0.5555555555555556,\"#d8576b\"],[0.6666666666666666,\"#ed7953\"],[0.7777777777777778,\"#fb9f3a\"],[0.8888888888888888,\"#fdca26\"],[1.0,\"#f0f921\"]]}],\"heatmap\":[{\"type\":\"heatmap\",\"colorbar\":{\"outlinewidth\":0,\"ticks\":\"\"},\"colorscale\":[[0.0,\"#0d0887\"],[0.1111111111111111,\"#46039f\"],[0.2222222222222222,\"#7201a8\"],[0.3333333333333333,\"#9c179e\"],[0.4444444444444444,\"#bd3786\"],[0.5555555555555556,\"#d8576b\"],[0.6666666666666666,\"#ed7953\"],[0.7777777777777778,\"#fb9f3a\"],[0.8888888888888888,\"#fdca26\"],[1.0,\"#f0f921\"]]}],\"heatmapgl\":[{\"type\":\"heatmapgl\",\"colorbar\":{\"outlinewidth\":0,\"ticks\":\"\"},\"colorscale\":[[0.0,\"#0d0887\"],[0.1111111111111111,\"#46039f\"],[0.2222222222222222,\"#7201a8\"],[0.3333333333333333,\"#9c179e\"],[0.4444444444444444,\"#bd3786\"],[0.5555555555555556,\"#d8576b\"],[0.6666666666666666,\"#ed7953\"],[0.7777777777777778,\"#fb9f3a\"],[0.8888888888888888,\"#fdca26\"],[1.0,\"#f0f921\"]]}],\"contourcarpet\":[{\"type\":\"contourcarpet\",\"colorbar\":{\"outlinewidth\":0,\"ticks\":\"\"}}],\"contour\":[{\"type\":\"contour\",\"colorbar\":{\"outlinewidth\":0,\"ticks\":\"\"},\"colorscale\":[[0.0,\"#0d0887\"],[0.1111111111111111,\"#46039f\"],[0.2222222222222222,\"#7201a8\"],[0.3333333333333333,\"#9c179e\"],[0.4444444444444444,\"#bd3786\"],[0.5555555555555556,\"#d8576b\"],[0.6666666666666666,\"#ed7953\"],[0.7777777777777778,\"#fb9f3a\"],[0.8888888888888888,\"#fdca26\"],[1.0,\"#f0f921\"]]}],\"surface\":[{\"type\":\"surface\",\"colorbar\":{\"outlinewidth\":0,\"ticks\":\"\"},\"colorscale\":[[0.0,\"#0d0887\"],[0.1111111111111111,\"#46039f\"],[0.2222222222222222,\"#7201a8\"],[0.3333333333333333,\"#9c179e\"],[0.4444444444444444,\"#bd3786\"],[0.5555555555555556,\"#d8576b\"],[0.6666666666666666,\"#ed7953\"],[0.7777777777777778,\"#fb9f3a\"],[0.8888888888888888,\"#fdca26\"],[1.0,\"#f0f921\"]]}],\"mesh3d\":[{\"type\":\"mesh3d\",\"colorbar\":{\"outlinewidth\":0,\"ticks\":\"\"}}],\"scatter\":[{\"fillpattern\":{\"fillmode\":\"overlay\",\"size\":10,\"solidity\":0.2},\"type\":\"scatter\"}],\"parcoords\":[{\"type\":\"parcoords\",\"line\":{\"colorbar\":{\"outlinewidth\":0,\"ticks\":\"\"}}}],\"scatterpolargl\":[{\"type\":\"scatterpolargl\",\"marker\":{\"colorbar\":{\"outlinewidth\":0,\"ticks\":\"\"}}}],\"bar\":[{\"error_x\":{\"color\":\"#2a3f5f\"},\"error_y\":{\"color\":\"#2a3f5f\"},\"marker\":{\"line\":{\"color\":\"#E5ECF6\",\"width\":0.5},\"pattern\":{\"fillmode\":\"overlay\",\"size\":10,\"solidity\":0.2}},\"type\":\"bar\"}],\"scattergeo\":[{\"type\":\"scattergeo\",\"marker\":{\"colorbar\":{\"outlinewidth\":0,\"ticks\":\"\"}}}],\"scatterpolar\":[{\"type\":\"scatterpolar\",\"marker\":{\"colorbar\":{\"outlinewidth\":0,\"ticks\":\"\"}}}],\"histogram\":[{\"marker\":{\"pattern\":{\"fillmode\":\"overlay\",\"size\":10,\"solidity\":0.2}},\"type\":\"histogram\"}],\"scattergl\":[{\"type\":\"scattergl\",\"marker\":{\"colorbar\":{\"outlinewidth\":0,\"ticks\":\"\"}}}],\"scatter3d\":[{\"type\":\"scatter3d\",\"line\":{\"colorbar\":{\"outlinewidth\":0,\"ticks\":\"\"}},\"marker\":{\"colorbar\":{\"outlinewidth\":0,\"ticks\":\"\"}}}],\"scattermapbox\":[{\"type\":\"scattermapbox\",\"marker\":{\"colorbar\":{\"outlinewidth\":0,\"ticks\":\"\"}}}],\"scatterternary\":[{\"type\":\"scatterternary\",\"marker\":{\"colorbar\":{\"outlinewidth\":0,\"ticks\":\"\"}}}],\"scattercarpet\":[{\"type\":\"scattercarpet\",\"marker\":{\"colorbar\":{\"outlinewidth\":0,\"ticks\":\"\"}}}],\"carpet\":[{\"aaxis\":{\"endlinecolor\":\"#2a3f5f\",\"gridcolor\":\"white\",\"linecolor\":\"white\",\"minorgridcolor\":\"white\",\"startlinecolor\":\"#2a3f5f\"},\"baxis\":{\"endlinecolor\":\"#2a3f5f\",\"gridcolor\":\"white\",\"linecolor\":\"white\",\"minorgridcolor\":\"white\",\"startlinecolor\":\"#2a3f5f\"},\"type\":\"carpet\"}],\"table\":[{\"cells\":{\"fill\":{\"color\":\"#EBF0F8\"},\"line\":{\"color\":\"white\"}},\"header\":{\"fill\":{\"color\":\"#C8D4E3\"},\"line\":{\"color\":\"white\"}},\"type\":\"table\"}],\"barpolar\":[{\"marker\":{\"line\":{\"color\":\"#E5ECF6\",\"width\":0.5},\"pattern\":{\"fillmode\":\"overlay\",\"size\":10,\"solidity\":0.2}},\"type\":\"barpolar\"}],\"pie\":[{\"automargin\":true,\"type\":\"pie\"}]},\"layout\":{\"autotypenumbers\":\"strict\",\"colorway\":[\"#636efa\",\"#EF553B\",\"#00cc96\",\"#ab63fa\",\"#FFA15A\",\"#19d3f3\",\"#FF6692\",\"#B6E880\",\"#FF97FF\",\"#FECB52\"],\"font\":{\"color\":\"#2a3f5f\"},\"hovermode\":\"closest\",\"hoverlabel\":{\"align\":\"left\"},\"paper_bgcolor\":\"white\",\"plot_bgcolor\":\"#E5ECF6\",\"polar\":{\"bgcolor\":\"#E5ECF6\",\"angularaxis\":{\"gridcolor\":\"white\",\"linecolor\":\"white\",\"ticks\":\"\"},\"radialaxis\":{\"gridcolor\":\"white\",\"linecolor\":\"white\",\"ticks\":\"\"}},\"ternary\":{\"bgcolor\":\"#E5ECF6\",\"aaxis\":{\"gridcolor\":\"white\",\"linecolor\":\"white\",\"ticks\":\"\"},\"baxis\":{\"gridcolor\":\"white\",\"linecolor\":\"white\",\"ticks\":\"\"},\"caxis\":{\"gridcolor\":\"white\",\"linecolor\":\"white\",\"ticks\":\"\"}},\"coloraxis\":{\"colorbar\":{\"outlinewidth\":0,\"ticks\":\"\"}},\"colorscale\":{\"sequential\":[[0.0,\"#0d0887\"],[0.1111111111111111,\"#46039f\"],[0.2222222222222222,\"#7201a8\"],[0.3333333333333333,\"#9c179e\"],[0.4444444444444444,\"#bd3786\"],[0.5555555555555556,\"#d8576b\"],[0.6666666666666666,\"#ed7953\"],[0.7777777777777778,\"#fb9f3a\"],[0.8888888888888888,\"#fdca26\"],[1.0,\"#f0f921\"]],\"sequentialminus\":[[0.0,\"#0d0887\"],[0.1111111111111111,\"#46039f\"],[0.2222222222222222,\"#7201a8\"],[0.3333333333333333,\"#9c179e\"],[0.4444444444444444,\"#bd3786\"],[0.5555555555555556,\"#d8576b\"],[0.6666666666666666,\"#ed7953\"],[0.7777777777777778,\"#fb9f3a\"],[0.8888888888888888,\"#fdca26\"],[1.0,\"#f0f921\"]],\"diverging\":[[0,\"#8e0152\"],[0.1,\"#c51b7d\"],[0.2,\"#de77ae\"],[0.3,\"#f1b6da\"],[0.4,\"#fde0ef\"],[0.5,\"#f7f7f7\"],[0.6,\"#e6f5d0\"],[0.7,\"#b8e186\"],[0.8,\"#7fbc41\"],[0.9,\"#4d9221\"],[1,\"#276419\"]]},\"xaxis\":{\"gridcolor\":\"white\",\"linecolor\":\"white\",\"ticks\":\"\",\"title\":{\"standoff\":15},\"zerolinecolor\":\"white\",\"automargin\":true,\"zerolinewidth\":2},\"yaxis\":{\"gridcolor\":\"white\",\"linecolor\":\"white\",\"ticks\":\"\",\"title\":{\"standoff\":15},\"zerolinecolor\":\"white\",\"automargin\":true,\"zerolinewidth\":2},\"scene\":{\"xaxis\":{\"backgroundcolor\":\"#E5ECF6\",\"gridcolor\":\"white\",\"linecolor\":\"white\",\"showbackground\":true,\"ticks\":\"\",\"zerolinecolor\":\"white\",\"gridwidth\":2},\"yaxis\":{\"backgroundcolor\":\"#E5ECF6\",\"gridcolor\":\"white\",\"linecolor\":\"white\",\"showbackground\":true,\"ticks\":\"\",\"zerolinecolor\":\"white\",\"gridwidth\":2},\"zaxis\":{\"backgroundcolor\":\"#E5ECF6\",\"gridcolor\":\"white\",\"linecolor\":\"white\",\"showbackground\":true,\"ticks\":\"\",\"zerolinecolor\":\"white\",\"gridwidth\":2}},\"shapedefaults\":{\"line\":{\"color\":\"#2a3f5f\"}},\"annotationdefaults\":{\"arrowcolor\":\"#2a3f5f\",\"arrowhead\":0,\"arrowwidth\":1},\"geo\":{\"bgcolor\":\"white\",\"landcolor\":\"#E5ECF6\",\"subunitcolor\":\"white\",\"showland\":true,\"showlakes\":true,\"lakecolor\":\"white\"},\"title\":{\"x\":0.05},\"mapbox\":{\"style\":\"light\"}}},\"xaxis\":{\"anchor\":\"y\",\"domain\":[0.0,1.0],\"title\":{\"text\":\"index\"}},\"yaxis\":{\"anchor\":\"x\",\"domain\":[0.0,1.0],\"title\":{\"text\":\"value\"}},\"legend\":{\"title\":{\"text\":\"variable\"},\"tracegroupgap\":0},\"title\":{\"text\":\"Linear Regression Model: Actual Prices vs. Predicted Prices.\"}},                        {\"responsive\": true}                    ).then(function(){\n                            \nvar gd = document.getElementById('e87fc2d9-9497-42f4-9b42-682e30f27c81');\nvar x = new MutationObserver(function (mutations, observer) {{\n        var display = window.getComputedStyle(gd).display;\n        if (!display || display === 'none') {{\n            console.log([gd, 'removed!']);\n            Plotly.purge(gd);\n            observer.disconnect();\n        }}\n}});\n\n// Listen for the removal of the full notebook cells\nvar notebookContainer = gd.closest('#notebook-container');\nif (notebookContainer) {{\n    x.observe(notebookContainer, {childList: true});\n}}\n\n// Listen for the clearing of the current output cell\nvar outputEl = gd.closest('.output');\nif (outputEl) {{\n    x.observe(outputEl, {childList: true});\n}}\n\n                        })                };                });            </script>        </div>"
     },
     "metadata": {},
     "output_type": "display_data"
    }
   ],
   "source": [
    "fig = px.line(df_pred, x=df_pred.index, y=[\"Actual\", \"Predicted\"],title = \"Linear Regression Model: Actual Prices vs. Predicted Prices.\",color_discrete_map = {\"Actual\": \"green\", \"Predicted\": \"red\"})\n",
    "fig.show()"
   ],
   "metadata": {
    "collapsed": false
   }
  },
  {
   "cell_type": "markdown",
   "source": [
    "#### We can see that the straight line is unable to capture the patterns in the data. This is an example of under-fitting. Computing the RMSE and R²-score of the linear line gives:\n",
    "###"
   ],
   "metadata": {
    "collapsed": false
   }
  },
  {
   "cell_type": "code",
   "execution_count": 54,
   "outputs": [],
   "source": [
    "mse = mean_squared_error(y_test, y_pred)\n",
    "mae = mean_absolute_error(y_test, y_pred)\n",
    "rmse = np.sqrt(mse)\n",
    "\n",
    "# R2 score\n",
    "r2 = r2_score(y_test, y_pred)"
   ],
   "metadata": {
    "collapsed": false
   }
  },
  {
   "cell_type": "markdown",
   "source": [],
   "metadata": {
    "collapsed": false
   }
  },
  {
   "cell_type": "code",
   "execution_count": 55,
   "outputs": [
    {
     "name": "stdout",
     "output_type": "stream",
     "text": [
      "R2 Score:  0.008699368181967038\n",
      "Mean Squared Error:  6.942837997274408\n",
      "Mean Absolute Error:  2.013335038727223\n",
      "Root Mean Squared Error:  2.634926563924393\n",
      "Accuracy of our model is 1.0%\n"
     ]
    }
   ],
   "source": [
    "print(\"R2 Score: \", r2)\n",
    "print(\"Mean Squared Error: \", mse)\n",
    "print(\"Mean Absolute Error: \", mae)\n",
    "print(\"Root Mean Squared Error: \", rmse)\n",
    "print(\"Accuracy of our model is {}%\".format(round(r2, 2) * 100))"
   ],
   "metadata": {
    "collapsed": false
   }
  },
  {
   "cell_type": "code",
   "execution_count": null,
   "outputs": [],
   "source": [],
   "metadata": {
    "collapsed": false
   }
  }
 ],
 "metadata": {
  "kernelspec": {
   "display_name": "Python 3",
   "language": "python",
   "name": "python3"
  },
  "language_info": {
   "codemirror_mode": {
    "name": "ipython",
    "version": 2
   },
   "file_extension": ".py",
   "mimetype": "text/x-python",
   "name": "python",
   "nbconvert_exporter": "python",
   "pygments_lexer": "ipython2",
   "version": "2.7.6"
  }
 },
 "nbformat": 4,
 "nbformat_minor": 0
}
