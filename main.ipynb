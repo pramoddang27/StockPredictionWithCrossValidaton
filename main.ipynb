{
 "cells": [
  {
   "cell_type": "code",
   "execution_count": 1,
   "metadata": {
    "collapsed": true
   },
   "outputs": [],
   "source": [
    "from ObatiningStockData import *\n",
    "from LinearRegressionModel import *"
   ]
  },
  {
   "cell_type": "code",
   "execution_count": 2,
   "outputs": [],
   "source": [
    "import plotly.express as px\n",
    "\n",
    "# Get the stock data\n",
    "if __name__ == \"__main__\":\n",
    "    symbol = \"KPITTECH.NS\"\n",
    "    start_date = datetime.datetime(2023, 1, 1)\n",
    "    end_date = datetime.datetime(2024, 2, 25)"
   ],
   "metadata": {
    "collapsed": false
   }
  },
  {
   "cell_type": "code",
   "execution_count": 3,
   "outputs": [
    {
     "name": "stderr",
     "output_type": "stream",
     "text": [
      "[*********************100%%**********************]  1 of 1 completed"
     ]
    },
    {
     "name": "stdout",
     "output_type": "stream",
     "text": [
      "             Volume     Today      Lag1      Lag2      Lag3  Lag4  Lag5  \\\n",
      "Date                                                                      \n",
      "2023-01-02   404987       NaN       NaN       NaN       NaN   NaN   NaN   \n",
      "2023-01-03   524130 -0.717619       NaN       NaN       NaN   NaN   NaN   \n",
      "2023-01-04   838579 -1.532339 -0.717619       NaN       NaN   NaN   NaN   \n",
      "2023-01-05   571885  0.227554 -1.532339 -0.717619       NaN   NaN   NaN   \n",
      "2023-01-06  2688877  4.972895  0.227554 -1.532339 -0.717619   NaN   NaN   \n",
      "\n",
      "            Direction  \n",
      "Date                   \n",
      "2023-01-02        NaN  \n",
      "2023-01-03       -1.0  \n",
      "2023-01-04       -1.0  \n",
      "2023-01-05        1.0  \n",
      "2023-01-06        1.0  \n"
     ]
    },
    {
     "name": "stderr",
     "output_type": "stream",
     "text": [
      "\n"
     ]
    }
   ],
   "source": [
    "    ftse_lags = create_lagged_series(symbol, start_date, end_date, lags=5)\n",
    "    print(ftse_lags.head(5))"
   ],
   "metadata": {
    "collapsed": false
   }
  },
  {
   "cell_type": "code",
   "execution_count": 4,
   "outputs": [
    {
     "name": "stdout",
     "output_type": "stream",
     "text": [
      "[ 0.41340393  0.24496756  0.34939187  0.55084036  0.38020572  0.08437798\n",
      "  0.05093452  0.88749331  0.21629231  0.39412567  0.5058117   0.53686417\n",
      "  0.1110047   0.26101947  0.02318158  0.31428501  0.26855045  0.07802484\n",
      "  0.41431003  0.26274048  0.59758547 -0.08334619  0.27172392  0.30927767\n",
      "  0.17527798 -0.03547659  0.36920677  0.44918685  0.46146517  0.3666459\n",
      "  0.35850792  0.04733352  0.31547982  0.33096594  0.39601276  0.40625906\n",
      "  0.49230981 -0.07561704  0.32218063  0.46434712  0.51754495  0.27533492\n",
      "  0.46370155 -0.03093842  0.3631397   0.2169778  -0.14864617  0.20945471\n",
      "  0.18397461  0.27415584  0.3788045   0.34782561  0.35485591  0.49079427\n",
      "  0.32031183  0.29126427]\n"
     ]
    }
   ],
   "source": [
    "y_pred, y_test = create_linear_reg(ftse_lags)\n",
    "print(y_pred)"
   ],
   "metadata": {
    "collapsed": false
   }
  },
  {
   "cell_type": "code",
   "execution_count": 8,
   "outputs": [
    {
     "ename": "ValueError",
     "evalue": "not enough values to unpack (expected 4, got 3)",
     "output_type": "error",
     "traceback": [
      "\u001B[1;31m---------------------------------------------------------------------------\u001B[0m",
      "\u001B[1;31mValueError\u001B[0m                                Traceback (most recent call last)",
      "Cell \u001B[1;32mIn[8], line 1\u001B[0m\n\u001B[1;32m----> 1\u001B[0m df_pred,r2,mse,mae \u001B[38;5;241m=\u001B[39m evaluate_model(y_test, y_pred)\n",
      "\u001B[1;31mValueError\u001B[0m: not enough values to unpack (expected 4, got 3)"
     ]
    }
   ],
   "source": [
    "df_pred,r2,mse,mae = evaluate_model(y_test, y_pred)"
   ],
   "metadata": {
    "collapsed": false
   }
  },
  {
   "cell_type": "code",
   "execution_count": 6,
   "outputs": [
    {
     "ename": "ValueError",
     "evalue": "All arguments should have the same length. The length of argument `y` is 2, whereas the length of  previously-processed arguments ['index'] is 56",
     "output_type": "error",
     "traceback": [
      "\u001B[1;31m---------------------------------------------------------------------------\u001B[0m",
      "\u001B[1;31mValueError\u001B[0m                                Traceback (most recent call last)",
      "Cell \u001B[1;32mIn[6], line 1\u001B[0m\n\u001B[1;32m----> 1\u001B[0m fig \u001B[38;5;241m=\u001B[39m \u001B[43mpx\u001B[49m\u001B[38;5;241;43m.\u001B[39;49m\u001B[43mline\u001B[49m\u001B[43m(\u001B[49m\u001B[43mdf_pred\u001B[49m\u001B[43m,\u001B[49m\u001B[43m \u001B[49m\u001B[43mx\u001B[49m\u001B[38;5;241;43m=\u001B[39;49m\u001B[43mdf_pred\u001B[49m\u001B[38;5;241;43m.\u001B[39;49m\u001B[43mindex\u001B[49m\u001B[43m,\u001B[49m\u001B[43m \u001B[49m\u001B[43my\u001B[49m\u001B[38;5;241;43m=\u001B[39;49m\u001B[43m[\u001B[49m\u001B[38;5;124;43m\"\u001B[39;49m\u001B[38;5;124;43mactual\u001B[39;49m\u001B[38;5;124;43m\"\u001B[39;49m\u001B[43m,\u001B[49m\u001B[43m \u001B[49m\u001B[38;5;124;43m\"\u001B[39;49m\u001B[38;5;124;43mpredicted\u001B[39;49m\u001B[38;5;124;43m\"\u001B[39;49m\u001B[43m]\u001B[49m\u001B[43m)\u001B[49m\n\u001B[0;32m      2\u001B[0m fig\u001B[38;5;241m.\u001B[39mshow()\n",
      "File \u001B[1;32m~\\anaconda3\\envs\\StockPredictionWithCrossValidaton\\lib\\site-packages\\plotly\\express\\_chart_types.py:264\u001B[0m, in \u001B[0;36mline\u001B[1;34m(data_frame, x, y, line_group, color, line_dash, symbol, hover_name, hover_data, custom_data, text, facet_row, facet_col, facet_col_wrap, facet_row_spacing, facet_col_spacing, error_x, error_x_minus, error_y, error_y_minus, animation_frame, animation_group, category_orders, labels, orientation, color_discrete_sequence, color_discrete_map, line_dash_sequence, line_dash_map, symbol_sequence, symbol_map, markers, log_x, log_y, range_x, range_y, line_shape, render_mode, title, template, width, height)\u001B[0m\n\u001B[0;32m    216\u001B[0m \u001B[38;5;28;01mdef\u001B[39;00m \u001B[38;5;21mline\u001B[39m(\n\u001B[0;32m    217\u001B[0m     data_frame\u001B[38;5;241m=\u001B[39m\u001B[38;5;28;01mNone\u001B[39;00m,\n\u001B[0;32m    218\u001B[0m     x\u001B[38;5;241m=\u001B[39m\u001B[38;5;28;01mNone\u001B[39;00m,\n\u001B[1;32m   (...)\u001B[0m\n\u001B[0;32m    258\u001B[0m     height\u001B[38;5;241m=\u001B[39m\u001B[38;5;28;01mNone\u001B[39;00m,\n\u001B[0;32m    259\u001B[0m ) \u001B[38;5;241m-\u001B[39m\u001B[38;5;241m>\u001B[39m go\u001B[38;5;241m.\u001B[39mFigure:\n\u001B[0;32m    260\u001B[0m \u001B[38;5;250m    \u001B[39m\u001B[38;5;124;03m\"\"\"\u001B[39;00m\n\u001B[0;32m    261\u001B[0m \u001B[38;5;124;03m    In a 2D line plot, each row of `data_frame` is represented as vertex of\u001B[39;00m\n\u001B[0;32m    262\u001B[0m \u001B[38;5;124;03m    a polyline mark in 2D space.\u001B[39;00m\n\u001B[0;32m    263\u001B[0m \u001B[38;5;124;03m    \"\"\"\u001B[39;00m\n\u001B[1;32m--> 264\u001B[0m     \u001B[38;5;28;01mreturn\u001B[39;00m \u001B[43mmake_figure\u001B[49m\u001B[43m(\u001B[49m\u001B[43margs\u001B[49m\u001B[38;5;241;43m=\u001B[39;49m\u001B[38;5;28;43mlocals\u001B[39;49m\u001B[43m(\u001B[49m\u001B[43m)\u001B[49m\u001B[43m,\u001B[49m\u001B[43m \u001B[49m\u001B[43mconstructor\u001B[49m\u001B[38;5;241;43m=\u001B[39;49m\u001B[43mgo\u001B[49m\u001B[38;5;241;43m.\u001B[39;49m\u001B[43mScatter\u001B[49m\u001B[43m)\u001B[49m\n",
      "File \u001B[1;32m~\\anaconda3\\envs\\StockPredictionWithCrossValidaton\\lib\\site-packages\\plotly\\express\\_core.py:2090\u001B[0m, in \u001B[0;36mmake_figure\u001B[1;34m(args, constructor, trace_patch, layout_patch)\u001B[0m\n\u001B[0;32m   2087\u001B[0m layout_patch \u001B[38;5;241m=\u001B[39m layout_patch \u001B[38;5;129;01mor\u001B[39;00m {}\n\u001B[0;32m   2088\u001B[0m apply_default_cascade(args)\n\u001B[1;32m-> 2090\u001B[0m args \u001B[38;5;241m=\u001B[39m \u001B[43mbuild_dataframe\u001B[49m\u001B[43m(\u001B[49m\u001B[43margs\u001B[49m\u001B[43m,\u001B[49m\u001B[43m \u001B[49m\u001B[43mconstructor\u001B[49m\u001B[43m)\u001B[49m\n\u001B[0;32m   2091\u001B[0m \u001B[38;5;28;01mif\u001B[39;00m constructor \u001B[38;5;129;01min\u001B[39;00m [go\u001B[38;5;241m.\u001B[39mTreemap, go\u001B[38;5;241m.\u001B[39mSunburst, go\u001B[38;5;241m.\u001B[39mIcicle] \u001B[38;5;129;01mand\u001B[39;00m args[\u001B[38;5;124m\"\u001B[39m\u001B[38;5;124mpath\u001B[39m\u001B[38;5;124m\"\u001B[39m] \u001B[38;5;129;01mis\u001B[39;00m \u001B[38;5;129;01mnot\u001B[39;00m \u001B[38;5;28;01mNone\u001B[39;00m:\n\u001B[0;32m   2092\u001B[0m     args \u001B[38;5;241m=\u001B[39m process_dataframe_hierarchy(args)\n",
      "File \u001B[1;32m~\\anaconda3\\envs\\StockPredictionWithCrossValidaton\\lib\\site-packages\\plotly\\express\\_core.py:1492\u001B[0m, in \u001B[0;36mbuild_dataframe\u001B[1;34m(args, constructor)\u001B[0m\n\u001B[0;32m   1489\u001B[0m     args[\u001B[38;5;124m\"\u001B[39m\u001B[38;5;124mcolor\u001B[39m\u001B[38;5;124m\"\u001B[39m] \u001B[38;5;241m=\u001B[39m \u001B[38;5;28;01mNone\u001B[39;00m\n\u001B[0;32m   1490\u001B[0m \u001B[38;5;66;03m# now that things have been prepped, we do the systematic rewriting of `args`\u001B[39;00m\n\u001B[1;32m-> 1492\u001B[0m df_output, wide_id_vars \u001B[38;5;241m=\u001B[39m \u001B[43mprocess_args_into_dataframe\u001B[49m\u001B[43m(\u001B[49m\n\u001B[0;32m   1493\u001B[0m \u001B[43m    \u001B[49m\u001B[43margs\u001B[49m\u001B[43m,\u001B[49m\u001B[43m \u001B[49m\u001B[43mwide_mode\u001B[49m\u001B[43m,\u001B[49m\u001B[43m \u001B[49m\u001B[43mvar_name\u001B[49m\u001B[43m,\u001B[49m\u001B[43m \u001B[49m\u001B[43mvalue_name\u001B[49m\n\u001B[0;32m   1494\u001B[0m \u001B[43m\u001B[49m\u001B[43m)\u001B[49m\n\u001B[0;32m   1496\u001B[0m \u001B[38;5;66;03m# now that `df_output` exists and `args` contains only references, we complete\u001B[39;00m\n\u001B[0;32m   1497\u001B[0m \u001B[38;5;66;03m# the special-case and wide-mode handling by further rewriting args and/or mutating\u001B[39;00m\n\u001B[0;32m   1498\u001B[0m \u001B[38;5;66;03m# df_output\u001B[39;00m\n\u001B[0;32m   1500\u001B[0m count_name \u001B[38;5;241m=\u001B[39m _escape_col_name(df_output, \u001B[38;5;124m\"\u001B[39m\u001B[38;5;124mcount\u001B[39m\u001B[38;5;124m\"\u001B[39m, [var_name, value_name])\n",
      "File \u001B[1;32m~\\anaconda3\\envs\\StockPredictionWithCrossValidaton\\lib\\site-packages\\plotly\\express\\_core.py:1253\u001B[0m, in \u001B[0;36mprocess_args_into_dataframe\u001B[1;34m(args, wide_mode, var_name, value_name)\u001B[0m\n\u001B[0;32m   1250\u001B[0m         col_name \u001B[38;5;241m=\u001B[39m _check_name_not_reserved(field, reserved_names)\n\u001B[0;32m   1252\u001B[0m     \u001B[38;5;28;01mif\u001B[39;00m length \u001B[38;5;129;01mand\u001B[39;00m \u001B[38;5;28mlen\u001B[39m(argument) \u001B[38;5;241m!=\u001B[39m length:\n\u001B[1;32m-> 1253\u001B[0m         \u001B[38;5;28;01mraise\u001B[39;00m \u001B[38;5;167;01mValueError\u001B[39;00m(\n\u001B[0;32m   1254\u001B[0m             \u001B[38;5;124m\"\u001B[39m\u001B[38;5;124mAll arguments should have the same length. \u001B[39m\u001B[38;5;124m\"\u001B[39m\n\u001B[0;32m   1255\u001B[0m             \u001B[38;5;124m\"\u001B[39m\u001B[38;5;124mThe length of argument `\u001B[39m\u001B[38;5;132;01m%s\u001B[39;00m\u001B[38;5;124m` is \u001B[39m\u001B[38;5;132;01m%d\u001B[39;00m\u001B[38;5;124m, whereas the \u001B[39m\u001B[38;5;124m\"\u001B[39m\n\u001B[0;32m   1256\u001B[0m             \u001B[38;5;124m\"\u001B[39m\u001B[38;5;124mlength of  previously-processed arguments \u001B[39m\u001B[38;5;132;01m%s\u001B[39;00m\u001B[38;5;124m is \u001B[39m\u001B[38;5;132;01m%d\u001B[39;00m\u001B[38;5;124m\"\u001B[39m\n\u001B[0;32m   1257\u001B[0m             \u001B[38;5;241m%\u001B[39m (field, \u001B[38;5;28mlen\u001B[39m(argument), \u001B[38;5;28mstr\u001B[39m(\u001B[38;5;28mlist\u001B[39m(df_output\u001B[38;5;241m.\u001B[39mkeys())), length)\n\u001B[0;32m   1258\u001B[0m         )\n\u001B[0;32m   1259\u001B[0m     df_output[\u001B[38;5;28mstr\u001B[39m(col_name)] \u001B[38;5;241m=\u001B[39m to_unindexed_series(argument, \u001B[38;5;28mstr\u001B[39m(col_name))\n\u001B[0;32m   1261\u001B[0m \u001B[38;5;66;03m# Finally, update argument with column name now that column exists\u001B[39;00m\n",
      "\u001B[1;31mValueError\u001B[0m: All arguments should have the same length. The length of argument `y` is 2, whereas the length of  previously-processed arguments ['index'] is 56"
     ]
    }
   ],
   "source": [
    "fig = px.line(df_pred, x=df_pred.index, y=[\"actual\", \"predicted\"])\n",
    "fig.show()"
   ],
   "metadata": {
    "collapsed": false
   }
  },
  {
   "cell_type": "code",
   "execution_count": null,
   "outputs": [],
   "source": [],
   "metadata": {
    "collapsed": false
   }
  }
 ],
 "metadata": {
  "kernelspec": {
   "display_name": "Python 3",
   "language": "python",
   "name": "python3"
  },
  "language_info": {
   "codemirror_mode": {
    "name": "ipython",
    "version": 2
   },
   "file_extension": ".py",
   "mimetype": "text/x-python",
   "name": "python",
   "nbconvert_exporter": "python",
   "pygments_lexer": "ipython2",
   "version": "2.7.6"
  }
 },
 "nbformat": 4,
 "nbformat_minor": 0
}
