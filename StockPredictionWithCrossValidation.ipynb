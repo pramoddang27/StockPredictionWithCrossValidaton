{
 "cells": [
  {
   "cell_type": "code",
   "execution_count": null,
   "metadata": {
    "collapsed": true,
    "pycharm": {
     "is_executing": true
    }
   },
   "outputs": [],
   "source": [
    "#Import The Libraries\n",
    "import datetime\n",
    "import numpy as np\n",
    "import pandas as pd\n",
    "import sklearn"
   ]
  },
  {
   "cell_type": "code",
   "execution_count": 5,
   "outputs": [],
   "source": [
    "#!pip install yfinance\n",
    "import yfinance as yf"
   ],
   "metadata": {
    "collapsed": false
   }
  },
  {
   "cell_type": "code",
   "execution_count": 7,
   "outputs": [],
   "source": [
    "#define the ticker symbol\n",
    "tickerSymbol = 'KPITTECH.NS'\n",
    "\n",
    "#get data on this ticker\n",
    "tickerData = yf.Ticker(tickerSymbol)"
   ],
   "metadata": {
    "collapsed": false
   }
  },
  {
   "cell_type": "code",
   "execution_count": 11,
   "outputs": [],
   "source": [
    "#get the historical prices for this ticker\n",
    "tickerDf = tickerData.history(period='1d', start='2022-1-1', end='2024-1-25')"
   ],
   "metadata": {
    "collapsed": false
   }
  },
  {
   "cell_type": "code",
   "execution_count": 12,
   "outputs": [
    {
     "data": {
      "text/plain": "                                  Open         High          Low        Close  \\\nDate                                                                            \n2022-01-03 00:00:00+05:30   609.410411   624.249950   595.609627   601.644409   \n2022-01-04 00:00:00+05:30   603.870340   606.838248   585.271403   601.644409   \n2022-01-05 00:00:00+05:30   602.633714   602.633714   584.677847   587.843628   \n2022-01-06 00:00:00+05:30   592.592291   645.025332   588.486661   623.705872   \n2022-01-07 00:00:00+05:30   650.961172   741.977020   640.276715   703.641541   \n...                                ...          ...          ...          ...   \n2024-01-17 00:00:00+05:30  1528.072158  1552.392370  1503.152829  1539.408325   \n2024-01-18 00:00:00+05:30  1527.123312  1546.499525  1485.075009  1530.219482   \n2024-01-19 00:00:00+05:30  1538.609180  1550.594451  1522.079445  1545.900269   \n2024-01-23 00:00:00+05:30  1528.122124  1558.285009  1476.535494  1499.657104   \n2024-01-24 00:00:00+05:30  1499.657077  1512.591134  1483.327169  1504.700928   \n\n                             Volume  Dividends  Stock Splits  \nDate                                                          \n2022-01-03 00:00:00+05:30   2048224        0.0           0.0  \n2022-01-04 00:00:00+05:30   1295393        0.0           0.0  \n2022-01-05 00:00:00+05:30   1052466        0.0           0.0  \n2022-01-06 00:00:00+05:30   4532927        0.0           0.0  \n2022-01-07 00:00:00+05:30  10670785        0.0           0.0  \n...                             ...        ...           ...  \n2024-01-17 00:00:00+05:30    699537        0.0           0.0  \n2024-01-18 00:00:00+05:30    535425        0.0           0.0  \n2024-01-19 00:00:00+05:30    451502        0.0           0.0  \n2024-01-23 00:00:00+05:30   1188474        0.0           0.0  \n2024-01-24 00:00:00+05:30    362720        0.0           0.0  \n\n[510 rows x 7 columns]",
      "text/html": "<div>\n<style scoped>\n    .dataframe tbody tr th:only-of-type {\n        vertical-align: middle;\n    }\n\n    .dataframe tbody tr th {\n        vertical-align: top;\n    }\n\n    .dataframe thead th {\n        text-align: right;\n    }\n</style>\n<table border=\"1\" class=\"dataframe\">\n  <thead>\n    <tr style=\"text-align: right;\">\n      <th></th>\n      <th>Open</th>\n      <th>High</th>\n      <th>Low</th>\n      <th>Close</th>\n      <th>Volume</th>\n      <th>Dividends</th>\n      <th>Stock Splits</th>\n    </tr>\n    <tr>\n      <th>Date</th>\n      <th></th>\n      <th></th>\n      <th></th>\n      <th></th>\n      <th></th>\n      <th></th>\n      <th></th>\n    </tr>\n  </thead>\n  <tbody>\n    <tr>\n      <th>2022-01-03 00:00:00+05:30</th>\n      <td>609.410411</td>\n      <td>624.249950</td>\n      <td>595.609627</td>\n      <td>601.644409</td>\n      <td>2048224</td>\n      <td>0.0</td>\n      <td>0.0</td>\n    </tr>\n    <tr>\n      <th>2022-01-04 00:00:00+05:30</th>\n      <td>603.870340</td>\n      <td>606.838248</td>\n      <td>585.271403</td>\n      <td>601.644409</td>\n      <td>1295393</td>\n      <td>0.0</td>\n      <td>0.0</td>\n    </tr>\n    <tr>\n      <th>2022-01-05 00:00:00+05:30</th>\n      <td>602.633714</td>\n      <td>602.633714</td>\n      <td>584.677847</td>\n      <td>587.843628</td>\n      <td>1052466</td>\n      <td>0.0</td>\n      <td>0.0</td>\n    </tr>\n    <tr>\n      <th>2022-01-06 00:00:00+05:30</th>\n      <td>592.592291</td>\n      <td>645.025332</td>\n      <td>588.486661</td>\n      <td>623.705872</td>\n      <td>4532927</td>\n      <td>0.0</td>\n      <td>0.0</td>\n    </tr>\n    <tr>\n      <th>2022-01-07 00:00:00+05:30</th>\n      <td>650.961172</td>\n      <td>741.977020</td>\n      <td>640.276715</td>\n      <td>703.641541</td>\n      <td>10670785</td>\n      <td>0.0</td>\n      <td>0.0</td>\n    </tr>\n    <tr>\n      <th>...</th>\n      <td>...</td>\n      <td>...</td>\n      <td>...</td>\n      <td>...</td>\n      <td>...</td>\n      <td>...</td>\n      <td>...</td>\n    </tr>\n    <tr>\n      <th>2024-01-17 00:00:00+05:30</th>\n      <td>1528.072158</td>\n      <td>1552.392370</td>\n      <td>1503.152829</td>\n      <td>1539.408325</td>\n      <td>699537</td>\n      <td>0.0</td>\n      <td>0.0</td>\n    </tr>\n    <tr>\n      <th>2024-01-18 00:00:00+05:30</th>\n      <td>1527.123312</td>\n      <td>1546.499525</td>\n      <td>1485.075009</td>\n      <td>1530.219482</td>\n      <td>535425</td>\n      <td>0.0</td>\n      <td>0.0</td>\n    </tr>\n    <tr>\n      <th>2024-01-19 00:00:00+05:30</th>\n      <td>1538.609180</td>\n      <td>1550.594451</td>\n      <td>1522.079445</td>\n      <td>1545.900269</td>\n      <td>451502</td>\n      <td>0.0</td>\n      <td>0.0</td>\n    </tr>\n    <tr>\n      <th>2024-01-23 00:00:00+05:30</th>\n      <td>1528.122124</td>\n      <td>1558.285009</td>\n      <td>1476.535494</td>\n      <td>1499.657104</td>\n      <td>1188474</td>\n      <td>0.0</td>\n      <td>0.0</td>\n    </tr>\n    <tr>\n      <th>2024-01-24 00:00:00+05:30</th>\n      <td>1499.657077</td>\n      <td>1512.591134</td>\n      <td>1483.327169</td>\n      <td>1504.700928</td>\n      <td>362720</td>\n      <td>0.0</td>\n      <td>0.0</td>\n    </tr>\n  </tbody>\n</table>\n<p>510 rows × 7 columns</p>\n</div>"
     },
     "execution_count": 12,
     "metadata": {},
     "output_type": "execute_result"
    }
   ],
   "source": [
    "#see your data\n",
    "tickerDf"
   ],
   "metadata": {
    "collapsed": false
   }
  },
  {
   "cell_type": "code",
   "execution_count": 14,
   "outputs": [
    {
     "data": {
      "text/plain": "(510, 7)"
     },
     "execution_count": 14,
     "metadata": {},
     "output_type": "execute_result"
    }
   ],
   "source": [
    "#Get the number of rows and columns in the data\n",
    "#see your data\n",
    "tickerDf.shape"
   ],
   "metadata": {
    "collapsed": false
   }
  },
  {
   "cell_type": "code",
   "execution_count": 15,
   "outputs": [
    {
     "data": {
      "text/plain": "DatetimeIndex(['2022-01-03 00:00:00+05:30', '2022-01-04 00:00:00+05:30',\n               '2022-01-05 00:00:00+05:30', '2022-01-06 00:00:00+05:30',\n               '2022-01-07 00:00:00+05:30', '2022-01-10 00:00:00+05:30',\n               '2022-01-11 00:00:00+05:30', '2022-01-12 00:00:00+05:30',\n               '2022-01-13 00:00:00+05:30', '2022-01-14 00:00:00+05:30',\n               ...\n               '2024-01-10 00:00:00+05:30', '2024-01-11 00:00:00+05:30',\n               '2024-01-12 00:00:00+05:30', '2024-01-15 00:00:00+05:30',\n               '2024-01-16 00:00:00+05:30', '2024-01-17 00:00:00+05:30',\n               '2024-01-18 00:00:00+05:30', '2024-01-19 00:00:00+05:30',\n               '2024-01-23 00:00:00+05:30', '2024-01-24 00:00:00+05:30'],\n              dtype='datetime64[ns, Asia/Kolkata]', name='Date', length=510, freq=None)"
     },
     "execution_count": 15,
     "metadata": {},
     "output_type": "execute_result"
    }
   ],
   "source": [
    "tickerDf.index"
   ],
   "metadata": {
    "collapsed": false
   }
  },
  {
   "cell_type": "code",
   "execution_count": null,
   "outputs": [],
   "source": [],
   "metadata": {
    "collapsed": false
   }
  }
 ],
 "metadata": {
  "kernelspec": {
   "display_name": "Python 3",
   "language": "python",
   "name": "python3"
  },
  "language_info": {
   "codemirror_mode": {
    "name": "ipython",
    "version": 2
   },
   "file_extension": ".py",
   "mimetype": "text/x-python",
   "name": "python",
   "nbconvert_exporter": "python",
   "pygments_lexer": "ipython2",
   "version": "2.7.6"
  }
 },
 "nbformat": 4,
 "nbformat_minor": 0
}
